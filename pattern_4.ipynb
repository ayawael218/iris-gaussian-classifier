{
  "nbformat": 4,
  "nbformat_minor": 0,
  "metadata": {
    "colab": {
      "provenance": []
    },
    "kernelspec": {
      "name": "python3",
      "display_name": "Python 3"
    },
    "language_info": {
      "name": "python"
    }
  },
  "cells": [
    {
      "cell_type": "code",
      "execution_count": null,
      "metadata": {
        "id": "0F0bp1kYsvTr",
        "colab": {
          "base_uri": "https://localhost:8080/"
        },
        "outputId": "91f44100-a16c-4b9e-dc1c-0e63cf8b2f94"
      },
      "outputs": [
        {
          "output_type": "stream",
          "name": "stdout",
          "text": [
            "Accuracy: 0.9777777777777777\n",
            "Predicted class labels:\n",
            "[1 0 2 1 1 0 1 2 1 1 2 0 0 0 0 2 2 1 1 2 0 2 0 2 2 2 2 2 0 0 0 0 1 0 0 2 1\n",
            " 0 0 0 2 1 1 0 0]\n",
            "Actual class labels:\n",
            "[1 0 2 1 1 0 1 2 1 1 2 0 0 0 0 1 2 1 1 2 0 2 0 2 2 2 2 2 0 0 0 0 1 0 0 2 1\n",
            " 0 0 0 2 1 1 0 0]\n"
          ]
        }
      ],
      "source": [
        "import numpy as np\n",
        "from sklearn.datasets import load_iris\n",
        "from sklearn.model_selection import train_test_split\n",
        "\n",
        "# Load the Iris dataset\n",
        "iris = load_iris()\n",
        "X = iris.data\n",
        "y = iris.target\n",
        "\n",
        "# Normalize the features\n",
        "X = (X - np.mean(X, axis=0)) / np.std(X, axis=0)\n",
        "\n",
        "# Split the data into training and testing sets (60% train, 40% test)\n",
        "X_train, X_test, y_train, y_test = train_test_split(X, y, test_size=0.3, random_state=42)\n",
        "\n",
        "# posterior = (likelihood * prior)\n",
        "# Fit the Gaussian Naive Bayes model\n",
        "def fit(X, y):\n",
        "    classes = np.unique(y)  # Find unique classes\n",
        "    means = {}  # Dictionary to store the mean of each feature per class\n",
        "    variances = {}  # Dictionary to store the variance of each feature per class\n",
        "    priors = {}  # Dictionary to store the prior probabilities of each class\n",
        "\n",
        "    for cls in classes:\n",
        "        X_cls = X[y == cls]  # Extract the rows of X that correspond to the current class\n",
        "\n",
        "        # Calculate mean of each feature for the current class\n",
        "        # mean =  sum_(x_i -> the feature vector of the i-th sample in class) / N(num.of samples in class)\n",
        "        means[cls] = np.mean(X_cls, axis=0)\n",
        "\n",
        "        # Calculate variance of each feature for the current class\n",
        "        # sigma_square =  sum_(x_i - mean)^2 \\ N(num.of samples in class)\n",
        "        variances[cls] = np.var(X_cls, axis=0)\n",
        "\n",
        "        # Calculate prior probability of the current class\n",
        "        # Prior = (num. of samples in the class) / (num. of samples in the data )\n",
        "        priors[cls] = X_cls.shape[0] / X.shape[0]\n",
        "\n",
        "    return classes, means, variances, priors\n",
        "\n",
        "# function to  calculate the likelihood of each feature in x given the class\n",
        "def calculate_likelihood(mean, var, x):\n",
        "    eps = 1e-6  # epsilon to prevent division by zero\n",
        "\n",
        "    # Combined coefficient and exponent in the Gaussian probability density function\n",
        "    likelihood = (1 / np.sqrt(2 * np.pi * var + eps)) * np.exp(-((x - mean) ** 2) / (2 * var + eps))\n",
        "\n",
        "    return likelihood\n",
        "\n",
        "# posterior = log(prior) + log(likelihood)\n",
        "def calculate_posterior(x, classes, means, variances, priors):\n",
        "    posteriors = []\n",
        "    for cls in classes:\n",
        "        # Logarithm of the prior probability of the class\n",
        "        prior = np.log(priors[cls])\n",
        "\n",
        "        # Logarithm of the likelihood of the data features given the class\n",
        "        # The log transformation converts the product of probabilities into a sum\n",
        "        all_likelihood = np.sum(np.log(calculate_likelihood(means[cls], variances[cls], x)))\n",
        "\n",
        "        # Sum of the log prior and log likelihood\n",
        "        posterior = prior + all_likelihood\n",
        "\n",
        "        posteriors.append(posterior)\n",
        "\n",
        "    # Return the class with the highest posterior probability\n",
        "    return classes[np.argmax(posteriors)]\n",
        "\n",
        "def predict(X, classes, means, variances, priors):\n",
        "    # Predict the class for each instance in X\n",
        "    return np.array([calculate_posterior(x, classes, means, variances, priors) for x in X])\n",
        "\n",
        "# Train the classifier\n",
        "classes, means, variances, priors = fit(X_train, y_train)\n",
        "\n",
        "# Predict on the test set\n",
        "y_pred = predict(X_test, classes, means, variances, priors)\n",
        "\n",
        "# Calculate accuracy\n",
        "accuracy = np.mean(y_pred == y_test)\n",
        "print(\"Accuracy:\", accuracy)\n",
        "\n",
        "# Print predicted class labels\n",
        "print(\"Predicted class labels:\")\n",
        "print(y_pred)\n",
        "\n",
        "# Print actual class labels\n",
        "print(\"Actual class labels:\")\n",
        "print(y_test)\n"
      ]
    }
  ]
}